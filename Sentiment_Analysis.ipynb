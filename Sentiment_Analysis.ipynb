{
  "nbformat": 4,
  "nbformat_minor": 0,
  "metadata": {
    "colab": {
      "provenance": [],
      "include_colab_link": true
    },
    "kernelspec": {
      "name": "python3",
      "display_name": "Python 3"
    },
    "language_info": {
      "name": "python"
    }
  },
  "cells": [
    {
      "cell_type": "markdown",
      "metadata": {
        "id": "view-in-github",
        "colab_type": "text"
      },
      "source": [
        "<a href=\"https://colab.research.google.com/github/rafiafsan/LSTM-Long-Short-Term-Memory-/blob/main/Sentiment_Analysis.ipynb\" target=\"_parent\"><img src=\"https://colab.research.google.com/assets/colab-badge.svg\" alt=\"Open In Colab\"/></a>"
      ]
    },
    {
      "cell_type": "code",
      "source": [
        "import pandas as pd\n",
        "import numpy as np\n",
        "import re\n",
        "import nltk\n",
        "\n",
        "import matplotlib.pyplot as plt\n",
        "from nltk.corpus import stopwords\n",
        "from nltk.stem import PorterStemmer\n",
        "from nltk.tokenize import word_tokenize\n",
        "\n",
        "from sklearn.model_selection import train_test_split\n",
        "from tensorflow.keras.preprocessing.text import Tokenizer\n",
        "from tensorflow.keras.preprocessing.sequence import pad_sequences\n",
        "from tensorflow.keras.utils import to_categorical\n",
        "from tensorflow.keras.models import Sequential\n",
        "from tensorflow.keras.layers import Embedding, LSTM, Dense, Dropout\n",
        "\n",
        "nltk.download('punkt')\n",
        "nltk.download('stopwords')"
      ],
      "metadata": {
        "colab": {
          "base_uri": "https://localhost:8080/"
        },
        "id": "xC4NoifV1I7q",
        "outputId": "d7ced0bb-5f5b-4e5d-d3da-0436cdf974ac"
      },
      "execution_count": null,
      "outputs": [
        {
          "output_type": "stream",
          "name": "stderr",
          "text": [
            "[nltk_data] Downloading package punkt to /root/nltk_data...\n",
            "[nltk_data]   Package punkt is already up-to-date!\n",
            "[nltk_data] Downloading package stopwords to /root/nltk_data...\n",
            "[nltk_data]   Package stopwords is already up-to-date!\n"
          ]
        },
        {
          "output_type": "execute_result",
          "data": {
            "text/plain": [
              "True"
            ]
          },
          "metadata": {},
          "execution_count": 66
        }
      ]
    },
    {
      "cell_type": "code",
      "source": [
        "# Load your CSV (adjust path if necessary)\n",
        "df = pd.read_csv('/content/test.csv',encoding='latin1')  # uploaded file path\n"
      ],
      "metadata": {
        "id": "7jNsV_BH7No_"
      },
      "execution_count": null,
      "outputs": []
    },
    {
      "cell_type": "code",
      "source": [
        "# cleaning data\n",
        "\n",
        "nltk.download('stopwords')\n",
        "\n",
        "stop_words = set(stopwords.words('english'))\n",
        "def preprocess_text(text):\n",
        "\n",
        "    if not isinstance(text, str):\n",
        "\n",
        "        return ''\n",
        "\n",
        "    text = re.sub(r'[^a-zA-Z\\s]', '', text)\n",
        "\n",
        "    text = text.lower()\n",
        "\n",
        "    tokens = [word for word in text.split() if word not in stop_words]\n",
        "\n",
        "    return ' '.join(tokens)"
      ],
      "metadata": {
        "colab": {
          "base_uri": "https://localhost:8080/"
        },
        "id": "VGENbXuY9TX2",
        "outputId": "cf868250-8ddb-42ca-8f8f-34b8b78135f1"
      },
      "execution_count": null,
      "outputs": [
        {
          "output_type": "stream",
          "name": "stderr",
          "text": [
            "[nltk_data] Downloading package stopwords to /root/nltk_data...\n",
            "[nltk_data]   Package stopwords is already up-to-date!\n"
          ]
        }
      ]
    },
    {
      "cell_type": "code",
      "source": [
        "df.dropna(inplace=True)"
      ],
      "metadata": {
        "id": "MqaT92Uv818H"
      },
      "execution_count": null,
      "outputs": []
    },
    {
      "cell_type": "code",
      "source": [
        "# If sentiments are strings like 'positive', 'neutral', 'negative'\n",
        "sentiment_map = {\n",
        "    'negative': 0,\n",
        "    'neutral': 1,\n",
        "    'positive': 2\n",
        "}\n",
        "\n",
        "# Map sentiments to numerical values, handling unknown values\n",
        "df['sentiment'] = df['sentiment'].map(sentiment_map).fillna(-1).astype(int)\n",
        "\n",
        "# Check if the dataframe is empty before proceeding\n",
        "if df[df['sentiment'] != -1].empty:\n",
        "    print(\"Warning: DataFrame is empty after filtering. Check your sentiment mapping or data.\")\n",
        "else:\n",
        "    df = df[df['sentiment'] != -1]"
      ],
      "metadata": {
        "id": "uGkKo1hm8Ah_"
      },
      "execution_count": null,
      "outputs": []
    },
    {
      "cell_type": "code",
      "source": [
        "stop_words = set(stopwords.words('english'))\n",
        "stemmer = PorterStemmer()\n",
        "\n",
        "def preprocess(text):\n",
        "    text = str(text).lower()\n",
        "    text = re.sub(r'[^a-zA-Z\\s]', '', text)\n",
        "    tokens = word_tokenize(text)\n",
        "    tokens = [stemmer.stem(word) for word in tokens if word not in stop_words]\n",
        "    return \" \".join(tokens)\n",
        "\n",
        "df['clean_text'] = df['text'].apply(preprocess)"
      ],
      "metadata": {
        "id": "QxZoZF7F8E7-"
      },
      "execution_count": null,
      "outputs": []
    },
    {
      "cell_type": "code",
      "source": [
        "tokenizer = Tokenizer(num_words=5000, oov_token=\"<OOV>\")\n",
        "tokenizer.fit_on_texts(df['clean_text'])\n",
        "\n",
        "sequences = tokenizer.texts_to_sequences(df['clean_text'])\n",
        "padded = pad_sequences(sequences, maxlen=100)\n",
        "\n",
        "X = padded\n",
        "y = to_categorical(df['sentiment'], num_classes=3)\n",
        "\n",
        "# Train-test split\n",
        "X_train, X_test, y_train, y_test = train_test_split(X, y, test_size=0.2, random_state=42)"
      ],
      "metadata": {
        "id": "_TRM_cTJ8N3n"
      },
      "execution_count": null,
      "outputs": []
    },
    {
      "cell_type": "code",
      "source": [
        "model = Sequential()\n",
        "model.add(Embedding(input_dim=10000, output_dim=64, input_length=100))\n",
        "model.add(LSTM(32))\n",
        "model.add(Dense(3, activation='softmax'))  # 3 classes\n",
        "\n",
        "model.compile(loss='categorical_crossentropy', optimizer='adam', metrics=['accuracy'])\n"
      ],
      "metadata": {
        "id": "okmQihmM9ajX"
      },
      "execution_count": 91,
      "outputs": []
    },
    {
      "cell_type": "code",
      "source": [
        "history = model.fit(X_train, y_train, epochs=5, batch_size=32, validation_data=(X_test, y_test))\n"
      ],
      "metadata": {
        "colab": {
          "base_uri": "https://localhost:8080/"
        },
        "id": "2moecaaW9vCd",
        "outputId": "884a8003-b788-44c4-8742-0ced2adce54d"
      },
      "execution_count": 92,
      "outputs": [
        {
          "output_type": "stream",
          "name": "stdout",
          "text": [
            "Epoch 1/5\n",
            "\u001b[1m89/89\u001b[0m \u001b[32m━━━━━━━━━━━━━━━━━━━━\u001b[0m\u001b[37m\u001b[0m \u001b[1m10s\u001b[0m 79ms/step - accuracy: 0.3960 - loss: 1.0824 - val_accuracy: 0.4668 - val_loss: 1.0161\n",
            "Epoch 2/5\n",
            "\u001b[1m89/89\u001b[0m \u001b[32m━━━━━━━━━━━━━━━━━━━━\u001b[0m\u001b[37m\u001b[0m \u001b[1m5s\u001b[0m 58ms/step - accuracy: 0.6134 - loss: 0.8726 - val_accuracy: 0.6365 - val_loss: 0.8190\n",
            "Epoch 3/5\n",
            "\u001b[1m89/89\u001b[0m \u001b[32m━━━━━━━━━━━━━━━━━━━━\u001b[0m\u001b[37m\u001b[0m \u001b[1m10s\u001b[0m 60ms/step - accuracy: 0.8097 - loss: 0.5141 - val_accuracy: 0.6591 - val_loss: 0.8233\n",
            "Epoch 4/5\n",
            "\u001b[1m89/89\u001b[0m \u001b[32m━━━━━━━━━━━━━━━━━━━━\u001b[0m\u001b[37m\u001b[0m \u001b[1m6s\u001b[0m 69ms/step - accuracy: 0.9059 - loss: 0.2786 - val_accuracy: 0.6421 - val_loss: 0.9536\n",
            "Epoch 5/5\n",
            "\u001b[1m89/89\u001b[0m \u001b[32m━━━━━━━━━━━━━━━━━━━━\u001b[0m\u001b[37m\u001b[0m \u001b[1m6s\u001b[0m 62ms/step - accuracy: 0.9347 - loss: 0.2097 - val_accuracy: 0.6280 - val_loss: 1.0079\n"
          ]
        }
      ]
    },
    {
      "cell_type": "code",
      "source": [
        "loss, accuracy = model.evaluate(X_test, y_test)\n",
        "print(f\"Test Accuracy: {accuracy * 100:.2f}%\")\n"
      ],
      "metadata": {
        "colab": {
          "base_uri": "https://localhost:8080/"
        },
        "id": "tgPlWBYP-hGD",
        "outputId": "fa9af3b9-e324-4941-f705-0911b3393ddd"
      },
      "execution_count": 93,
      "outputs": [
        {
          "output_type": "stream",
          "name": "stdout",
          "text": [
            "\u001b[1m23/23\u001b[0m \u001b[32m━━━━━━━━━━━━━━━━━━━━\u001b[0m\u001b[37m\u001b[0m \u001b[1m0s\u001b[0m 19ms/step - accuracy: 0.6524 - loss: 1.0112\n",
            "Test Accuracy: 62.80%\n"
          ]
        }
      ]
    },
    {
      "cell_type": "code",
      "source": [
        "def predict_sentiment(text):\n",
        "    text = preprocess(text)\n",
        "    seq = tokenizer.texts_to_sequences([text])\n",
        "    pad = pad_sequences(seq, maxlen=100)\n",
        "    pred = model.predict(pad)\n",
        "    label = np.argmax(pred)\n",
        "\n",
        "    if label == 0:\n",
        "        print(\"Predicted Sentiment: Negative 😞 \")\n",
        "    elif label == 1:\n",
        "        print(\"Predicted Sentiment: Neutral 😐\")\n",
        "    else:\n",
        "        print(\"Predicted Sentiment: Positive 😊\")\n",
        "\n",
        "# Example input\n",
        "user_input = input(\"Enter a sentence: \")\n",
        "predict_sentiment(user_input)\n"
      ],
      "metadata": {
        "id": "jD79pueY-QWu"
      },
      "execution_count": null,
      "outputs": []
    },
    {
      "cell_type": "code",
      "source": [],
      "metadata": {
        "id": "-QHE2M6ACxHk"
      },
      "execution_count": null,
      "outputs": []
    }
  ]
}